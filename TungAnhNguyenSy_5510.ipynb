{
 "cells": [
  {
   "attachments": {},
   "cell_type": "markdown",
   "id": "c884b0a4-cd1d-4d18-9893-5775e20a45d4",
   "metadata": {},
   "source": [
    "# Peer-graded Assignment: DTSA 5510 Unsupervised Algorithms in Machine Learning Final Project\n",
    "\n",
    "## Classification of Pneumonia\n",
    "\n",
    "### Tung Anh Nguyen Sy, 4/19/2023\n",
    "### Github repository: https://github.com/tanh3ka/tanh3ka-Master-of-Science-in-Data-Science-5510/\n",
    "\n",
    "Goals:\n",
    "1. Data cleaning\n",
    "2. Image size reducing\n",
    "3. EDA\n",
    "4. Unsupervised model building\n",
    "5. Compare with supervised model"
   ]
  },
  {
   "cell_type": "code",
   "execution_count": 1,
   "id": "22215c4b",
   "metadata": {},
   "outputs": [],
   "source": [
    "import numpy as np\n",
    "import pandas as pd\n",
    "import seaborn as sns\n",
    "import cv2 as cv\n",
    "import matplotlib.pyplot as plt\n",
    "import os\n",
    "import math\n",
    "from sklearn.decomposition import PCA, NMF\n",
    "from sklearn.cluster import KMeans, AgglomerativeClustering, DBSCAN\n",
    "from sklearn.metrics import confusion_matrix, accuracy_score, precision_score, recall_score\n",
    "from sklearn.metrics.pairwise import cosine_similarity\n",
    "from sklearn.ensemble import RandomForestClassifier\n",
    "import itertools\n",
    "import random"
   ]
  },
  {
   "cell_type": "code",
   "execution_count": 2,
   "id": "aeee7f2a-c175-4cd1-bf6a-ddc256ef0b26",
   "metadata": {},
   "outputs": [
    {
     "name": "stdout",
     "output_type": "stream",
     "text": [
      "C:\\Users\\Admin\\Desktop\\WorkProjects\\master5510\\CellData\\chest_xray\n"
     ]
    },
    {
     "data": {
      "text/plain": [
       "['.DS_Store', 'reducedData.csv', 'test', 'train']"
      ]
     },
     "execution_count": 2,
     "metadata": {},
     "output_type": "execute_result"
    }
   ],
   "source": [
    "%cd \"C:/Users/Admin/Desktop/WorkProjects/master5510/CellData/chest_xray\"\n",
    "\n",
    "os.listdir()"
   ]
  },
  {
   "attachments": {},
   "cell_type": "markdown",
   "id": "e6f8c493-112a-420d-8d9b-0ef846509ca0",
   "metadata": {},
   "source": [
    "### Dataset:\n",
    "Dataset consist of images on both chest X-Rays and Optical Coherence Tomography. This dataset can be download at https://data.mendeley.com/datasets/rscbjbr9sj/3\n",
    "- Train: \n",
    "The \"train\" dataset contains 1.18 GB of chest X-ray data, including 5233 X-rays of normal chests, 1345 X-rays with viral pneumonia, and 2538 X-rays with bacterial pneumonia. \n",
    "\n",
    "- Test: \n",
    "The \"test\" dataset contains 105 MB of data, with 235 normal chest X-rays, 626 X-rays with viral pneumonia, and 242 X-rays with bacterial pneumonia. "
   ]
  },
  {
   "cell_type": "code",
   "execution_count": 3,
   "id": "9b06127d-fb94-4426-a789-6baf3d757da3",
   "metadata": {},
   "outputs": [
    {
     "name": "stdout",
     "output_type": "stream",
     "text": [
      "(256, 256)\n"
     ]
    }
   ],
   "source": [
    "# File path\n",
    "repopath = \"./train/\" + \"NORMAL/\"\n",
    "filepath = repopath + os.listdir(repopath)[0]\n",
    "\n",
    "# Reads a single image and displays it as a numpy array with dimensions\n",
    "testpic = cv.imread(filepath, 0)\n",
    "testpic = cv.resize(testpic, (256, 256))\n",
    "\n",
    "print(testpic.shape)"
   ]
  },
  {
   "cell_type": "code",
   "execution_count": 4,
   "id": "577b4ea5-9681-462e-b58d-fa7aee5de989",
   "metadata": {},
   "outputs": [],
   "source": [
    "# Function to loads the test and train data and converts them to numpy arrays, which will then be combined\n",
    "def readXRay(path, pixDesired = 1000, n_imgs = \"use all\"):\n",
    "    firstImagePath = path + os.listdir(path)[0]\n",
    "    firstPic = cv.imread(firstImagePath, 0)\n",
    "    if pixDesired != None:\n",
    "        data = cv.resize(firstPic, (pixDesired, pixDesired))\n",
    "        data = data.reshape(1, pixDesired ** 2)# If performance allows, increase resize!\n",
    "    else:\n",
    "        data = data.reshape(1, firstPic.shape[0] * firstPic.shape[1])\n",
    "    if n_imgs == \"use all\":\n",
    "        for img in os.listdir(path)[1:]:\n",
    "            filepath = path + img\n",
    "            pic = cv.imread(filepath, 0)\n",
    "            if pixDesired != None:\n",
    "                pic = cv.resize(pic, (pixDesired, pixDesired))\n",
    "                pic = pic.reshape(1, pixDesired ** 2)\n",
    "            else:\n",
    "                pic = pic.reshape(1, pic.shape[0] * pic.shape[1])\n",
    "            \n",
    "            data = np.append(data, pic, axis = 0)\n",
    "    else:\n",
    "        for img in os.listdir(path)[1:n_imgs]:\n",
    "            filepath = path + img\n",
    "            pic = cv.imread(filepath, 0)\n",
    "            if pixDesired != None:\n",
    "                pic = cv.resize(pic, (pixDesired, pixDesired)) # If performance allows, increase resize!\n",
    "                pic = pic.reshape(1, pixDesired ** 2)\n",
    "            else:\n",
    "                pic = pic.reshape(1, pic.shape[0] * pic.shape[1])\n",
    "            \n",
    "            data = np.append(data, pic, axis = 0)\n",
    "    return(data)"
   ]
  },
  {
   "cell_type": "code",
   "execution_count": 5,
   "id": "0ab340fa-5769-48ce-b572-16296f0c53e8",
   "metadata": {},
   "outputs": [
    {
     "name": "stdout",
     "output_type": "stream",
     "text": [
      "(1349, 10000)\n",
      "(1345, 10000)\n",
      "(2538, 10000)\n",
      "(234, 10000)\n",
      "(148, 10000)\n",
      "(242, 10000)\n",
      "(5856, 10000)\n"
     ]
    }
   ],
   "source": [
    "# The data will be loaded in the following order: Normal Train, Viral Train, Bacterial Train, Normal Test, Viral Test, and Bacterial Test\n",
    "\n",
    "# Repositories path to read data:\n",
    "paths = [\"./train/NORMAL/\", \"./train/VIRAL/\", \"./train/BACTERIAL/\", \"./test/NORMAL/\", \"./test/VIRAL/\", \"./test/BACTERIAL/\"]\n",
    "\n",
    "data = readXRay(path = paths[0], pixDesired = 100, n_imgs = \"use all\")\n",
    "firstendTime = time.time()\n",
    "print(data.shape)\n",
    "\n",
    "for path in paths[1:]:\n",
    "    startTime = time.time()\n",
    "    this_data = readXRay(path = path, pixDesired = 100, n_imgs = \"use all\")\n",
    "    endTime = time.time()\n",
    "    print(this_data.shape)\n",
    "    data = np.append(data, this_data, axis = 0)\n",
    "    \n",
    "print(data.shape)"
   ]
  },
  {
   "cell_type": "code",
   "execution_count": 6,
   "id": "75e66b9e-aa6f-4d17-bfc4-c1d065798061",
   "metadata": {},
   "outputs": [
    {
     "name": "stdout",
     "output_type": "stream",
     "text": [
      "(5856,)\n"
     ]
    }
   ],
   "source": [
    "# Records the three class labels\n",
    "Normal1 = np.asarray([\"NORMAL\" for i in range(1349)])\n",
    "Viral1 = np.asarray([\"VIRAL\" for i in range(1345)])\n",
    "Bacterial1 = np.asarray([\"BACTERIAL\" for i in range(2538)])\n",
    "Normal2 = np.asarray([\"NORMAL\" for i in range(234)])\n",
    "Viral2 = np.asarray([\"VIRAL\" for i in range(148)])\n",
    "Bacterial2 = np.asarray([\"BACTERIAL\" for i in range(242)])\n",
    "labs = np.append(Normal1, Viral1, axis = 0)\n",
    "labs = np.append(labs, Bacterial1, axis = 0)\n",
    "labs = np.append(labs, Normal2, axis = 0)\n",
    "labs = np.append(labs, Viral2, axis = 0)\n",
    "labs = np.append(labs, Bacterial2, axis = 0)\n",
    "assert labs.shape[0] == data.shape[0]\n",
    "print(labs.shape)"
   ]
  },
  {
   "cell_type": "code",
   "execution_count": 7,
   "id": "278c536e-2cb3-4486-8771-7072df764e76",
   "metadata": {},
   "outputs": [
    {
     "name": "stdout",
     "output_type": "stream",
     "text": [
      "(5856,)\n"
     ]
    }
   ],
   "source": [
    "# Records the two class labels\n",
    "Infected1 = np.asarray([\"INFECTED\" for i in range(1345 + 2538)])\n",
    "Infected2 = np.asarray([\"INFECTED\" for i in range(148 + 242)])\n",
    "labs2 = np.append(Normal1, Infected1, axis = 0)\n",
    "labs2 = np.append(labs2, Normal2, axis = 0)\n",
    "labs2 = np.append(labs2, Infected2, axis = 0)\n",
    "assert labs2.shape[0] == data.shape[0]\n",
    "print(labs2.shape)"
   ]
  },
  {
   "attachments": {},
   "cell_type": "markdown",
   "id": "4f492d26-7ed9-4ac4-8bcc-693bc604efb0",
   "metadata": {},
   "source": [
    "#### Reduce data size"
   ]
  },
  {
   "cell_type": "code",
   "execution_count": 8,
   "id": "2512950e-4d2f-49f8-a107-bbf06b4b5935",
   "metadata": {},
   "outputs": [
    {
     "name": "stdout",
     "output_type": "stream",
     "text": [
      "(5856, 1533)\n"
     ]
    }
   ],
   "source": [
    "# Apply PCA (Principal Component Analysis) to the data\n",
    "# Set the minimum explained variance to 0.98 to avoid hindering the ability of our models to accurately categorize the X-Rays\n",
    "min_var_explained = 0.98\n",
    "pca = PCA(n_components = min_var_explained, svd_solver = \"full\")\n",
    "reducedData = pca.fit_transform(data)\n",
    "print(reducedData.shape)"
   ]
  },
  {
   "attachments": {},
   "cell_type": "markdown",
   "id": "d246a846-9934-4bf0-99ff-e53f273afb5b",
   "metadata": {},
   "source": [
    "### EDA"
   ]
  },
  {
   "cell_type": "code",
   "execution_count": 9,
   "id": "493083c4-a931-4dd7-87de-e2fcc322f321",
   "metadata": {},
   "outputs": [
    {
     "data": {
      "image/png": "[encoded data removed]",
      "text/plain": [
       "<Figure size 432x288 with 1 Axes>"
      ]
     },
     "metadata": {
      "needs_background": "light"
     },
     "output_type": "display_data"
    }
   ],
   "source": [
    "maxes = list(np.max(data, axis = 1))\n",
    "plt.hist(maxes)\n",
    "plt.xlabel(\"Maximum brightness of pixel\")\n",
    "plt.ylabel(\"Number of images\")\n",
    "plt.title(\"Histogram of Maximum Pixel Brightness over All Images\")\n",
    "plt.show()"
   ]
  },
  {
   "cell_type": "code",
   "execution_count": 10,
   "id": "4778ce02-327c-4529-a4bf-0bb02ed6033a",
   "metadata": {},
   "outputs": [
    {
     "data": {
      "image/png": "[encoded data removed]",
      "text/plain": [
       "<Figure size 432x288 with 1 Axes>"
      ]
     },
     "metadata": {
      "needs_background": "light"
     },
     "output_type": "display_data"
    }
   ],
   "source": [
    "mins = np.min(data, axis = 1)\n",
    "plt.hist(mins)\n",
    "plt.xlabel(\"Minimum brightness of pixel\")\n",
    "plt.ylabel(\"Number of images\")\n",
    "plt.title(\"Histogram of Minimum Pixel Brightness over All Images\")\n",
    "plt.show()"
   ]
  },
  {
   "cell_type": "code",
   "execution_count": 11,
   "id": "6b2164bd-a911-418e-bae5-00837b19b388",
   "metadata": {},
   "outputs": [
    {
     "data": {
      "image/png": "[encoded data removed]",
      "text/plain": [
       "<Figure size 432x288 with 1 Axes>"
      ]
     },
     "metadata": {
      "needs_background": "light"
     },
     "output_type": "display_data"
    }
   ],
   "source": [
    "means = np.mean(data, axis = 1)\n",
    "plt.hist(means)\n",
    "plt.xlabel(\"Mean brightness of pixel\")\n",
    "plt.ylabel(\"Number of images\")\n",
    "plt.title(\"Histogram of Mean Pixel Brightness over All Images\")\n",
    "plt.show()"
   ]
  },
  {
   "cell_type": "code",
   "execution_count": 12,
   "id": "03824366-a31f-44ce-8897-a51ed3be0b23",
   "metadata": {},
   "outputs": [
    {
     "data": {
      "image/png": "[encoded data removed]",
      "text/plain": [
       "<Figure size 432x288 with 1 Axes>"
      ]
     },
     "metadata": {
      "needs_background": "light"
     },
     "output_type": "display_data"
    }
   ],
   "source": [
    "stds = np.std(data, axis = 1)\n",
    "plt.hist(stds)\n",
    "plt.xlabel(\"Standard deviation in brightness of pixel\")\n",
    "plt.ylabel(\"Number of images\")\n",
    "plt.title(\"Histogram of Standard Deviation of Pixel Brightness over All Images\")\n",
    "plt.show()"
   ]
  },
  {
   "attachments": {},
   "cell_type": "markdown",
   "id": "ec6ab772-47ce-4a34-84de-a6806a8acba6",
   "metadata": {},
   "source": [
    "Create a function to calculate the correlation between any two pixels chosen by user."
   ]
  },
  {
   "cell_type": "code",
   "execution_count": 13,
   "id": "e1ad6ef6-4b35-41bf-aba2-b6ebc0fd0828",
   "metadata": {},
   "outputs": [
    {
     "name": "stdout",
     "output_type": "stream",
     "text": [
      "0.4703225494850951\n"
     ]
    }
   ],
   "source": [
    "# Function to allow user to choose the correlation between two features\n",
    "def getCorr(data, pix1, pix2):\n",
    "    pix1vals = data[:, pix1]\n",
    "    pix1vals = pix1vals.reshape((pix1vals.shape[0], 1))\n",
    "    pix2vals = data[:, pix2].reshape((pix1vals.shape[0], 1))\n",
    "    corrdata = np.append(pix1vals, pix2vals, axis = 1)\n",
    "    corr = np.corrcoef(corrdata, rowvar = False)[0, 1]\n",
    "    return(corr)\n",
    "testCorr = getCorr(data, 12, 1223)\n",
    "print(testCorr)"
   ]
  },
  {
   "attachments": {},
   "cell_type": "markdown",
   "id": "8d7700b5-2ea5-4e1d-80b0-40b8feb413f3",
   "metadata": {},
   "source": [
    "#### EDA on the reduced dataset after PCA"
   ]
  },
  {
   "cell_type": "code",
   "execution_count": 14,
   "id": "30fb7266-17a9-4a30-bef5-ee8a169d66e5",
   "metadata": {},
   "outputs": [
    {
     "data": {
      "image/png": "[encoded data removed]",
      "text/plain": [
       "<Figure size 432x288 with 1 Axes>"
      ]
     },
     "metadata": {
      "needs_background": "light"
     },
     "output_type": "display_data"
    }
   ],
   "source": [
    "maxes = list(np.max(reducedData, axis = 1))\n",
    "plt.hist(maxes)\n",
    "plt.xlabel(\"Maximum coordinate in dimension\")\n",
    "plt.ylabel(\"Number of images\")\n",
    "plt.title(\"Histogram of Maximum Coordinate over All Images\")\n",
    "plt.show()"
   ]
  },
  {
   "cell_type": "code",
   "execution_count": 15,
   "id": "b6b67551-0827-4a97-8edc-07fcd5b6c6f6",
   "metadata": {},
   "outputs": [
    {
     "data": {
      "image/png": "[encoded data removed]",
      "text/plain": [
       "<Figure size 432x288 with 1 Axes>"
      ]
     },
     "metadata": {
      "needs_background": "light"
     },
     "output_type": "display_data"
    }
   ],
   "source": [
    "mins = np.min(reducedData, axis = 1)\n",
    "plt.hist(mins)\n",
    "plt.xlabel(\"Minimum coordinate in dimension\")\n",
    "plt.ylabel(\"Number of images\")\n",
    "plt.title(\"Histogram of Minimum Coordinate over All Images\")\n",
    "plt.show()"
   ]
  },
  {
   "cell_type": "code",
   "execution_count": 16,
   "id": "b4429b7b-749f-4689-a414-953ddd3d3ee3",
   "metadata": {},
   "outputs": [
    {
     "data": {
      "image/png": "[encoded data removed]",
      "text/plain": [
       "<Figure size 432x288 with 1 Axes>"
      ]
     },
     "metadata": {
      "needs_background": "light"
     },
     "output_type": "display_data"
    }
   ],
   "source": [
    "means = np.mean(reducedData, axis = 1)\n",
    "plt.hist(means)\n",
    "plt.xlabel(\"Mean coordinate in dimension\")\n",
    "plt.ylabel(\"Number of images\")\n",
    "plt.title(\"Histogram of Mean Coordinate over All Images\")\n",
    "plt.show()"
   ]
  },
  {
   "cell_type": "code",
   "execution_count": 17,
   "id": "0da1fce8-06fd-4d10-9792-b2f680c09062",
   "metadata": {},
   "outputs": [
    {
     "data": {
      "image/png": "[encoded data removed]",
      "text/plain": [
       "<Figure size 432x288 with 1 Axes>"
      ]
     },
     "metadata": {
      "needs_background": "light"
     },
     "output_type": "display_data"
    }
   ],
   "source": [
    "stds = np.std(reducedData, axis = 1)\n",
    "plt.hist(stds)\n",
    "plt.xlabel(\"Standard deviation of coordinate in dimension\")\n",
    "plt.ylabel(\"Number of images\")\n",
    "plt.title(\"Histogram of Standard Deviation of Coordinates over All Images\")\n",
    "plt.show()"
   ]
  },
  {
   "attachments": {},
   "cell_type": "markdown",
   "id": "ec30141b-f5c5-4304-8300-d802fc237ecb",
   "metadata": {},
   "source": [
    "#### Unsupervised Model building"
   ]
  },
  {
   "attachments": {},
   "cell_type": "markdown",
   "id": "78db5a6c",
   "metadata": {},
   "source": [
    "#### NMF"
   ]
  },
  {
   "attachments": {},
   "cell_type": "markdown",
   "id": "8e541f38",
   "metadata": {},
   "source": [
    "L2 Loss: three categories"
   ]
  },
  {
   "cell_type": "code",
   "execution_count": 18,
   "id": "d97db58f-90db-4a5f-a6dd-bbd195a9fffc",
   "metadata": {},
   "outputs": [],
   "source": [
    "# Finalize the predictions from NMF\n",
    "def finalizePredictions(W):\n",
    "    predictions = np.zeros(shape = (W.shape[0]))\n",
    "    n_rows = W.shape[0]\n",
    "    n_cols = W.shape[1]\n",
    "    for i in range(n_rows):\n",
    "        current_best = (None, 0)\n",
    "        for j in range(n_cols):\n",
    "            if W[i, j] > current_best[1]:\n",
    "                current_best = (j, W[i, j])\n",
    "        if current_best[0] == None:\n",
    "            print(\"Something bad happened\")    \n",
    "        predictions[i] = current_best[0]\n",
    "    return(predictions.astype(int))\n",
    "\n",
    "# Label reconstructor\n",
    "def reconstructLabels(pred, trueLabs):\n",
    "    n = pred.shape[0]\n",
    "    categories = list(np.unique(trueLabs))\n",
    "    permutations = list(itertools.permutations(categories))\n",
    "    currentBest = (None, float(\"inf\"))\n",
    "    for subset in permutations:\n",
    "        n_misclassified = 0\n",
    "        for i in range(n):\n",
    "            if subset[int(pred[i])] != trueLabs[i]:\n",
    "                n_misclassified = n_misclassified + 1\n",
    "        if n_misclassified < currentBest[1]:\n",
    "            currentBest = (subset, n_misclassified)\n",
    "    return(currentBest)"
   ]
  },
  {
   "cell_type": "code",
   "execution_count": 19,
   "id": "fc22f47f-e70d-421c-b2f1-b4dd34aedfd0",
   "metadata": {},
   "outputs": [
    {
     "name": "stderr",
     "output_type": "stream",
     "text": [
      "c:\\Users\\Admin\\anaconda3\\envs\\datascience\\lib\\site-packages\\sklearn\\decomposition\\_nmf.py:1665: ConvergenceWarning: Maximum number of iterations 1000 reached. Increase it to improve convergence.\n",
      "  warnings.warn(\n"
     ]
    }
   ],
   "source": [
    "# NMF model\n",
    "nmf_model_1 = NMF(n_components = 3, beta_loss = \"frobenius\", init = 'nndsvd', solver = \"cd\", max_iter = 1000)\n",
    "W_1 = nmf_model_1.fit_transform(data)"
   ]
  },
  {
   "cell_type": "code",
   "execution_count": 20,
   "id": "4ff16a7b-a978-470b-bfd5-154c61a22b98",
   "metadata": {},
   "outputs": [],
   "source": [
    "# Convert prediction\n",
    "yhat1 = finalizePredictions(W_1)\n",
    "categoryNames = reconstructLabels(yhat1, labs)\n",
    "newlabs = list()\n",
    "labelDictionary = {\n",
    "    categoryNames[0][0] : 0,\n",
    "    categoryNames[0][1] : 1,\n",
    "    categoryNames[0][2] : 2\n",
    "}\n",
    "for label in labs:\n",
    "    this_newlab = labelDictionary[label]\n",
    "    newlabs.append(this_newlab)\n",
    "newlabs = np.asarray(newlabs)"
   ]
  },
  {
   "cell_type": "code",
   "execution_count": 21,
   "id": "84db1319-1b1f-47ab-8d82-790f4ed2111a",
   "metadata": {},
   "outputs": [
    {
     "name": "stdout",
     "output_type": "stream",
     "text": [
      "[[1793   52  935]\n",
      " [1126  350  107]\n",
      " [1138   67  288]]\n"
     ]
    }
   ],
   "source": [
    "# Confusion matrix\n",
    "print(confusion_matrix(y_true = newlabs, y_pred = yhat1))"
   ]
  },
  {
   "cell_type": "code",
   "execution_count": 22,
   "id": "440fd0c4-3979-4e49-bc98-f304fe97393d",
   "metadata": {},
   "outputs": [
    {
     "name": "stdout",
     "output_type": "stream",
     "text": [
      "The L2 NMF with 3 categories had accuracy: 0.415129781420765\n",
      "The L2 NMF with 3 categories had weighted average precision: 0.4667463436674939\n",
      "The L2 NMF with 3 categories had weighted average recall: 0.415129781420765\n"
     ]
    }
   ],
   "source": [
    "# Accuracy, precision, and recall\n",
    "print(\"The L2 NMF with 3 categories had accuracy:\" , accuracy_score(y_true = newlabs, y_pred = yhat1))\n",
    "print(\"The L2 NMF with 3 categories had weighted average precision:\", precision_score(y_true = newlabs, y_pred = yhat1, average = \"weighted\"))\n",
    "print(\"The L2 NMF with 3 categories had weighted average recall:\", recall_score(y_true = newlabs, y_pred = yhat1, average = \"weighted\"))"
   ]
  },
  {
   "attachments": {},
   "cell_type": "markdown",
   "id": "068e2da2-1583-4252-a571-47c985e402a9",
   "metadata": {},
   "source": [
    "L2 Loss: two categories"
   ]
  },
  {
   "cell_type": "code",
   "execution_count": 23,
   "id": "16d91ba7-698b-4162-8f92-87d70d6092b5",
   "metadata": {},
   "outputs": [
    {
     "name": "stderr",
     "output_type": "stream",
     "text": [
      "c:\\Users\\Admin\\anaconda3\\envs\\datascience\\lib\\site-packages\\sklearn\\decomposition\\_nmf.py:1665: ConvergenceWarning: Maximum number of iterations 1000 reached. Increase it to improve convergence.\n",
      "  warnings.warn(\n"
     ]
    }
   ],
   "source": [
    "# NMF model\n",
    "nmf_model_2 = NMF(n_components = 2, beta_loss = \"frobenius\", init = 'nndsvd', solver = \"cd\", max_iter = 1000)\n",
    "W_2 = nmf_model_2.fit_transform(data)"
   ]
  },
  {
   "cell_type": "code",
   "execution_count": 24,
   "id": "9c757b3c-307e-4556-9771-6e03d2ebf864",
   "metadata": {},
   "outputs": [],
   "source": [
    "# Convert predictions\n",
    "yhat2 = finalizePredictions(W_2)\n",
    "categoryNames = reconstructLabels(yhat2, labs2)\n",
    "newlabs = list()\n",
    "labelDictionary = {\n",
    "    categoryNames[0][0] : 0,\n",
    "    categoryNames[0][1] : 1\n",
    "}\n",
    "for label in labs2:\n",
    "    this_newlab = labelDictionary[label]\n",
    "    newlabs.append(this_newlab)\n",
    "newlabs = np.asarray(newlabs)"
   ]
  },
  {
   "cell_type": "code",
   "execution_count": 25,
   "id": "a613258c-1d04-4c59-82f9-048a1b8dc829",
   "metadata": {},
   "outputs": [
    {
     "name": "stdout",
     "output_type": "stream",
     "text": [
      "[[4131  142]\n",
      " [1515   68]]\n"
     ]
    }
   ],
   "source": [
    "# Confusion matrix\n",
    "print(confusion_matrix(y_true = newlabs, y_pred = yhat2))"
   ]
  },
  {
   "cell_type": "code",
   "execution_count": 26,
   "id": "950fbf96-3a9e-481e-abc5-8c837f457f9c",
   "metadata": {},
   "outputs": [
    {
     "name": "stdout",
     "output_type": "stream",
     "text": [
      "The L2 NMF with 2 categories had accuracy: 0.7170423497267759\n",
      "The L2 NMF with 2 categories had weighted average precision: 0.6214155927334378\n",
      "The L2 NMF with 2 categories had weighted average recall: 0.7170423497267759\n"
     ]
    }
   ],
   "source": [
    "# Accuracy, precision, and recall\n",
    "print(\"The L2 NMF with 2 categories had accuracy:\" , accuracy_score(y_true = newlabs, y_pred = yhat2))\n",
    "print(\"The L2 NMF with 2 categories had weighted average precision:\", precision_score(y_true = newlabs, y_pred = yhat2, average = \"weighted\"))\n",
    "print(\"The L2 NMF with 2 categories had weighted average recall:\", recall_score(y_true = newlabs, y_pred = yhat2, average = \"weighted\"))"
   ]
  },
  {
   "attachments": {},
   "cell_type": "markdown",
   "id": "d39959cd-98d5-4449-8d2d-a7bff660671e",
   "metadata": {},
   "source": [
    "KL Loss: three categories"
   ]
  },
  {
   "cell_type": "code",
   "execution_count": 27,
   "id": "c4b4aa0c-d5c4-4cc7-9515-ad9dfddac40c",
   "metadata": {},
   "outputs": [
    {
     "name": "stderr",
     "output_type": "stream",
     "text": [
      "c:\\Users\\Admin\\anaconda3\\envs\\datascience\\lib\\site-packages\\sklearn\\decomposition\\_nmf.py:1665: ConvergenceWarning: Maximum number of iterations 100 reached. Increase it to improve convergence.\n",
      "  warnings.warn(\n"
     ]
    }
   ],
   "source": [
    "# NMF model\n",
    "nmf_model_3 = NMF(n_components = 3, beta_loss = \"kullback-leibler\", init = 'nndsvdar', solver = \"mu\", max_iter = 100)\n",
    "W_3 = nmf_model_3.fit_transform(data)"
   ]
  },
  {
   "cell_type": "code",
   "execution_count": 28,
   "id": "203709c0-9d25-40aa-8fe4-124ee867f740",
   "metadata": {},
   "outputs": [],
   "source": [
    "# Convert predictions\n",
    "yhat3 = finalizePredictions(W_3)\n",
    "categoryNames = reconstructLabels(yhat3, labs)\n",
    "newlabs = list()\n",
    "labelDictionary = {\n",
    "    categoryNames[0][0] : 0,\n",
    "    categoryNames[0][1] : 1,\n",
    "    categoryNames[0][2] : 2\n",
    "}\n",
    "for label in labs:\n",
    "    this_newlab = labelDictionary[label]\n",
    "    newlabs.append(this_newlab)\n",
    "newlabs = np.asarray(newlabs)"
   ]
  },
  {
   "cell_type": "code",
   "execution_count": 29,
   "id": "41139eb1-8440-465e-80d8-c5d1df1b01c3",
   "metadata": {},
   "outputs": [
    {
     "name": "stdout",
     "output_type": "stream",
     "text": [
      "[[2643    2  135]\n",
      " [1560   15    8]\n",
      " [1456    2   35]]\n"
     ]
    }
   ],
   "source": [
    "# Confusion matrix\n",
    "print(confusion_matrix(y_true = newlabs, y_pred = yhat3))"
   ]
  },
  {
   "cell_type": "code",
   "execution_count": 30,
   "id": "ba29b761-aafa-4262-84a6-42f88cd93724",
   "metadata": {},
   "outputs": [
    {
     "name": "stdout",
     "output_type": "stream",
     "text": [
      "The KL NMF with 3 categories had accuracy: 0.459870218579235\n",
      "The KL NMF with 3 categories had weighted average precision: 0.4852605186637412\n",
      "The KL NMF with 3 categories had weighted average recall: 0.459870218579235\n"
     ]
    }
   ],
   "source": [
    "# Accuracy, precision, and recall\n",
    "print(\"The KL NMF with 3 categories had accuracy:\" , accuracy_score(y_true = newlabs, y_pred = yhat3))\n",
    "print(\"The KL NMF with 3 categories had weighted average precision:\", precision_score(y_true = newlabs, y_pred = yhat3, average = \"weighted\"))\n",
    "print(\"The KL NMF with 3 categories had weighted average recall:\", recall_score(y_true = newlabs, y_pred = yhat3, average = \"weighted\"))"
   ]
  },
  {
   "attachments": {},
   "cell_type": "markdown",
   "id": "1444ec68-3de7-4cb1-8abb-790817e81964",
   "metadata": {},
   "source": [
    "KL Loss: two categories"
   ]
  },
  {
   "cell_type": "code",
   "execution_count": 31,
   "id": "9ddb1816-98c6-4574-b1f7-6b4c21a4fc8f",
   "metadata": {},
   "outputs": [
    {
     "name": "stderr",
     "output_type": "stream",
     "text": [
      "c:\\Users\\Admin\\anaconda3\\envs\\datascience\\lib\\site-packages\\sklearn\\decomposition\\_nmf.py:1665: ConvergenceWarning: Maximum number of iterations 100 reached. Increase it to improve convergence.\n",
      "  warnings.warn(\n"
     ]
    }
   ],
   "source": [
    "# NMF model\n",
    "nmf_model_4 = NMF(n_components = 2, beta_loss = \"kullback-leibler\", init = 'nndsvdar', solver = \"mu\", max_iter = 100)\n",
    "W_4 = nmf_model_4.fit_transform(data)"
   ]
  },
  {
   "cell_type": "code",
   "execution_count": 32,
   "id": "b5b83178-95ab-43e1-ac82-be83c02c2285",
   "metadata": {},
   "outputs": [],
   "source": [
    "# Convert predictions\n",
    "yhat4 = finalizePredictions(W_4)\n",
    "categoryNames = reconstructLabels(yhat4, labs2)\n",
    "\n",
    "newlabs = list()\n",
    "labelDictionary = {\n",
    "    categoryNames[0][0] : 0,\n",
    "    categoryNames[0][1] : 1\n",
    "}\n",
    "for label in labs2:\n",
    "    this_newlab = labelDictionary[label]\n",
    "    newlabs.append(this_newlab)\n",
    "newlabs = np.asarray(newlabs)"
   ]
  },
  {
   "cell_type": "code",
   "execution_count": 33,
   "id": "dc45fa1f-9843-4c1b-bedc-f6c871eda8f6",
   "metadata": {},
   "outputs": [
    {
     "name": "stdout",
     "output_type": "stream",
     "text": [
      "[[4211   62]\n",
      " [1564   19]]\n"
     ]
    }
   ],
   "source": [
    "# Confusion matrix\n",
    "print(confusion_matrix(y_true = newlabs, y_pred = yhat4))"
   ]
  },
  {
   "cell_type": "code",
   "execution_count": 34,
   "id": "2c696e32-de30-4933-adfd-9b0f405b7bca",
   "metadata": {},
   "outputs": [
    {
     "name": "stdout",
     "output_type": "stream",
     "text": [
      "The KL NMF with 2 categories had accuracy: 0.7223360655737705\n",
      "The KL NMF with 2 categories had weighted average precision: 0.5954741118356783\n",
      "The KL NMF with 2 categories had weighted average recall: 0.7223360655737705\n"
     ]
    }
   ],
   "source": [
    "# Accuracy, precision, and recall\n",
    "print(\"The KL NMF with 2 categories had accuracy:\" , accuracy_score(y_true = newlabs, y_pred = yhat4))\n",
    "print(\"The KL NMF with 2 categories had weighted average precision:\", precision_score(y_true = newlabs, y_pred = yhat4, average = \"weighted\"))\n",
    "print(\"The KL NMF with 2 categories had weighted average recall:\", recall_score(y_true = newlabs, y_pred = yhat4, average = \"weighted\"))"
   ]
  },
  {
   "attachments": {},
   "cell_type": "markdown",
   "id": "ec61f52a-ae6c-4413-b936-6b1303becd8e",
   "metadata": {},
   "source": [
    "#### K-Means"
   ]
  },
  {
   "attachments": {},
   "cell_type": "markdown",
   "id": "95904061-5df3-4d1b-9681-77e85b763bc4",
   "metadata": {},
   "source": [
    "Lloyd: three categories"
   ]
  },
  {
   "cell_type": "code",
   "execution_count": 35,
   "id": "fc571286-36be-4bd7-8107-ccf43ddee055",
   "metadata": {},
   "outputs": [
    {
     "name": "stderr",
     "output_type": "stream",
     "text": [
      "c:\\Users\\Admin\\anaconda3\\envs\\datascience\\lib\\site-packages\\sklearn\\cluster\\_kmeans.py:870: FutureWarning: The default value of `n_init` will change from 10 to 'auto' in 1.4. Set the value of `n_init` explicitly to suppress the warning\n",
      "  warnings.warn(\n",
      "c:\\Users\\Admin\\anaconda3\\envs\\datascience\\lib\\site-packages\\sklearn\\cluster\\_kmeans.py:1366: FutureWarning: algorithm='full' is deprecated, it will be removed in 1.3. Using 'lloyd' instead.\n",
      "  warnings.warn(\n"
     ]
    }
   ],
   "source": [
    "# K-Means model\n",
    "lloyd = KMeans(n_clusters = 3, random_state = 42, max_iter = 100, algorithm = \"full\")\n",
    "lloydModel = lloyd.fit_transform(reducedData)"
   ]
  },
  {
   "cell_type": "code",
   "execution_count": 36,
   "id": "7f158bc2-4852-4faf-9bf6-67f263f48adb",
   "metadata": {},
   "outputs": [],
   "source": [
    "# Convert predictions\n",
    "yhat5 = finalizePredictions(lloydModel)\n",
    "categoryNames = reconstructLabels(yhat5, labs)\n",
    "newlabs = list()\n",
    "labelDictionary = {\n",
    "    categoryNames[0][0] : 0,\n",
    "    categoryNames[0][1] : 1,\n",
    "    categoryNames[0][2] : 2\n",
    "}\n",
    "for label in labs:\n",
    "    this_newlab = labelDictionary[label]\n",
    "    newlabs.append(this_newlab)\n",
    "newlabs = np.asarray(newlabs)"
   ]
  },
  {
   "cell_type": "code",
   "execution_count": 37,
   "id": "0811b46a-7ac5-42cb-a8fa-10375100987c",
   "metadata": {},
   "outputs": [
    {
     "name": "stdout",
     "output_type": "stream",
     "text": [
      "[[1488 1260   32]\n",
      " [ 671  906    6]\n",
      " [ 626  850   17]]\n"
     ]
    }
   ],
   "source": [
    "# Confusion matrix\n",
    "print(confusion_matrix(y_true = newlabs, y_pred = yhat5))"
   ]
  },
  {
   "cell_type": "code",
   "execution_count": 38,
   "id": "a5285648-f9a3-4b42-9f23-5db264024c4a",
   "metadata": {},
   "outputs": [
    {
     "name": "stdout",
     "output_type": "stream",
     "text": [
      "The Lloyd KMeans with 3 categories had accuracy: 0.41171448087431695\n",
      "The Lloyd KMeans with 3 categories had weighted average precision: 0.41364943884947114\n",
      "The Lloyd KMeans with 3 categories had weighted average recall: 0.41171448087431695\n"
     ]
    }
   ],
   "source": [
    "# Accuracy, precision, and recall\n",
    "print(\"The Lloyd KMeans with 3 categories had accuracy:\" , accuracy_score(y_true = newlabs, y_pred = yhat5))\n",
    "print(\"The Lloyd KMeans with 3 categories had weighted average precision:\", precision_score(y_true = newlabs, y_pred = yhat5, average = \"weighted\"))\n",
    "print(\"The Lloyd KMeans with 3 categories had weighted average recall:\", recall_score(y_true = newlabs, y_pred = yhat5, average = \"weighted\"))"
   ]
  },
  {
   "attachments": {},
   "cell_type": "markdown",
   "id": "60dbddd5-cc4a-4831-b1c2-b886f6a6986e",
   "metadata": {},
   "source": [
    "Lloyd: two categories"
   ]
  },
  {
   "cell_type": "code",
   "execution_count": 39,
   "id": "403260f4-e3d6-44f8-8ad8-3fdbec79ed8b",
   "metadata": {},
   "outputs": [
    {
     "name": "stderr",
     "output_type": "stream",
     "text": [
      "c:\\Users\\Admin\\anaconda3\\envs\\datascience\\lib\\site-packages\\sklearn\\cluster\\_kmeans.py:870: FutureWarning: The default value of `n_init` will change from 10 to 'auto' in 1.4. Set the value of `n_init` explicitly to suppress the warning\n",
      "  warnings.warn(\n",
      "c:\\Users\\Admin\\anaconda3\\envs\\datascience\\lib\\site-packages\\sklearn\\cluster\\_kmeans.py:1366: FutureWarning: algorithm='full' is deprecated, it will be removed in 1.3. Using 'lloyd' instead.\n",
      "  warnings.warn(\n"
     ]
    }
   ],
   "source": [
    "# K-Means model\n",
    "lloyd2 = KMeans(n_clusters = 2, random_state = 42, max_iter = 100, algorithm = \"full\")\n",
    "lloydModel2 = lloyd2.fit_transform(reducedData)"
   ]
  },
  {
   "cell_type": "code",
   "execution_count": 40,
   "id": "4a6cc5c7-140e-4088-ab07-f7f4ccd5dafc",
   "metadata": {},
   "outputs": [],
   "source": [
    "# Convert predictions\n",
    "yhat6 = finalizePredictions(lloydModel2)\n",
    "categoryNames = reconstructLabels(yhat6, labs2)\n",
    "newlabs = list()\n",
    "labelDictionary = {\n",
    "    categoryNames[0][0] : 0,\n",
    "    categoryNames[0][1] : 1\n",
    "}\n",
    "for label in labs2:\n",
    "    this_newlab = labelDictionary[label]\n",
    "    newlabs.append(this_newlab)\n",
    "newlabs = np.asarray(newlabs)"
   ]
  },
  {
   "cell_type": "code",
   "execution_count": 41,
   "id": "1a8603ee-e95f-4ce4-8d75-d17af36b3031",
   "metadata": {},
   "outputs": [
    {
     "name": "stdout",
     "output_type": "stream",
     "text": [
      "[[ 825  758]\n",
      " [2006 2267]]\n"
     ]
    }
   ],
   "source": [
    "# Confusion matrix\n",
    "print(confusion_matrix(y_true = newlabs, y_pred = yhat6))"
   ]
  },
  {
   "cell_type": "code",
   "execution_count": 42,
   "id": "0d9874fa-316e-4ffd-8338-6337a8741c31",
   "metadata": {},
   "outputs": [
    {
     "name": "stdout",
     "output_type": "stream",
     "text": [
      "The Lloyd KMeans with 2 categories had accuracy: 0.5280054644808743\n",
      "The Lloyd KMeans with 2 categories had weighted average precision: 0.6256130931833802\n",
      "The Lloyd KMeans with 2 categories had weighted average recall: 0.5280054644808743\n"
     ]
    }
   ],
   "source": [
    "# Accuracy, precision, and recall\n",
    "print(\"The Lloyd KMeans with 2 categories had accuracy:\" , accuracy_score(y_true = newlabs, y_pred = yhat6))\n",
    "print(\"The Lloyd KMeans with 2 categories had weighted average precision:\", precision_score(y_true = newlabs, y_pred = yhat6, average = \"weighted\"))\n",
    "print(\"The Lloyd KMeans with 2 categories had weighted average recall:\", recall_score(y_true = newlabs, y_pred = yhat6, average = \"weighted\"))"
   ]
  },
  {
   "attachments": {},
   "cell_type": "markdown",
   "id": "274cf1d8-4afb-4de7-b145-f7e0decd910b",
   "metadata": {},
   "source": [
    "Elkan: three categories"
   ]
  },
  {
   "cell_type": "code",
   "execution_count": 43,
   "id": "c6acd9ef-1ea3-4484-821e-447198e931c0",
   "metadata": {},
   "outputs": [
    {
     "name": "stderr",
     "output_type": "stream",
     "text": [
      "c:\\Users\\Admin\\anaconda3\\envs\\datascience\\lib\\site-packages\\sklearn\\cluster\\_kmeans.py:870: FutureWarning: The default value of `n_init` will change from 10 to 'auto' in 1.4. Set the value of `n_init` explicitly to suppress the warning\n",
      "  warnings.warn(\n"
     ]
    }
   ],
   "source": [
    "# Elkan K-Means model\n",
    "elkan = KMeans(n_clusters = 3, random_state = 42, max_iter = 1000, algorithm = \"elkan\")\n",
    "elkanModel = elkan.fit_transform(reducedData)"
   ]
  },
  {
   "cell_type": "code",
   "execution_count": 44,
   "id": "c24cb2e7-547d-48b8-8a50-9b193b6a1a19",
   "metadata": {},
   "outputs": [],
   "source": [
    "# Convert predictions\n",
    "yhat7 = finalizePredictions(elkanModel)\n",
    "categoryNames = reconstructLabels(yhat7, labs)\n",
    "newlabs = list()\n",
    "labelDictionary = {\n",
    "    categoryNames[0][0] : 0,\n",
    "    categoryNames[0][1] : 1,\n",
    "    categoryNames[0][2] : 2\n",
    "}\n",
    "for label in labs:\n",
    "    this_newlab = labelDictionary[label]\n",
    "    newlabs.append(this_newlab)\n",
    "newlabs = np.asarray(newlabs)"
   ]
  },
  {
   "cell_type": "code",
   "execution_count": 45,
   "id": "e6ff6df4-4946-441c-8b4d-2bde154de661",
   "metadata": {},
   "outputs": [
    {
     "name": "stdout",
     "output_type": "stream",
     "text": [
      "[[1488 1260   32]\n",
      " [ 671  906    6]\n",
      " [ 626  850   17]]\n"
     ]
    }
   ],
   "source": [
    "# Confusion matrix\n",
    "print(confusion_matrix(y_true = newlabs, y_pred = yhat7))"
   ]
  },
  {
   "cell_type": "code",
   "execution_count": 46,
   "id": "be781966-1374-4e61-a2e6-475c25fae15e",
   "metadata": {},
   "outputs": [
    {
     "name": "stdout",
     "output_type": "stream",
     "text": [
      "The Elkan KMeans with 3 categories had accuracy: 0.41171448087431695\n",
      "The Elkan KMeans with 3 categories had weighted average precision: 0.41364943884947114\n",
      "The Elkan KMeans with 3 categories had weighted average recall: 0.41171448087431695\n"
     ]
    }
   ],
   "source": [
    "# Accuracy, precision, and recall\n",
    "print(\"The Elkan KMeans with 3 categories had accuracy:\" , accuracy_score(y_true = newlabs, y_pred = yhat7))\n",
    "print(\"The Elkan KMeans with 3 categories had weighted average precision:\", precision_score(y_true = newlabs, y_pred = yhat7, average = \"weighted\"))\n",
    "print(\"The Elkan KMeans with 3 categories had weighted average recall:\", recall_score(y_true = newlabs, y_pred = yhat7, average = \"weighted\"))"
   ]
  },
  {
   "attachments": {},
   "cell_type": "markdown",
   "id": "a5889127-892e-44c9-8e82-833a6e017c50",
   "metadata": {},
   "source": [
    "Elkan: two categories"
   ]
  },
  {
   "cell_type": "code",
   "execution_count": 47,
   "id": "392f2bb4-3be0-46b9-aa6e-cfa75bff8432",
   "metadata": {},
   "outputs": [
    {
     "name": "stderr",
     "output_type": "stream",
     "text": [
      "c:\\Users\\Admin\\anaconda3\\envs\\datascience\\lib\\site-packages\\sklearn\\cluster\\_kmeans.py:870: FutureWarning: The default value of `n_init` will change from 10 to 'auto' in 1.4. Set the value of `n_init` explicitly to suppress the warning\n",
      "  warnings.warn(\n"
     ]
    }
   ],
   "source": [
    "# Elkan K-Means model\n",
    "elkan2 = KMeans(n_clusters = 2, random_state = 42, max_iter = 1000, algorithm = \"elkan\")\n",
    "elkanModel2 = elkan2.fit_transform(reducedData)"
   ]
  },
  {
   "cell_type": "code",
   "execution_count": 48,
   "id": "ffdec20a-aabf-4593-8e33-0fae9f122bbc",
   "metadata": {},
   "outputs": [],
   "source": [
    "# Convert predictions\n",
    "yhat8 = finalizePredictions(elkanModel2)\n",
    "categoryNames = reconstructLabels(yhat8, labs2)\n",
    "newlabs = list()\n",
    "labelDictionary = {\n",
    "    categoryNames[0][0] : 0,\n",
    "    categoryNames[0][1] : 1\n",
    "}\n",
    "for label in labs2:\n",
    "    this_newlab = labelDictionary[label]\n",
    "    newlabs.append(this_newlab)\n",
    "newlabs = np.asarray(newlabs)"
   ]
  },
  {
   "cell_type": "code",
   "execution_count": 49,
   "id": "dd23e46a-f5bf-494e-81ac-a8cb0e617548",
   "metadata": {},
   "outputs": [
    {
     "name": "stdout",
     "output_type": "stream",
     "text": [
      "[[ 825  758]\n",
      " [2006 2267]]\n"
     ]
    }
   ],
   "source": [
    "# Confusion matrix\n",
    "print(confusion_matrix(y_true = newlabs, y_pred = yhat8))"
   ]
  },
  {
   "cell_type": "code",
   "execution_count": 50,
   "id": "cfa0b55c-a891-401a-b3e8-6adca80fbd40",
   "metadata": {},
   "outputs": [
    {
     "name": "stdout",
     "output_type": "stream",
     "text": [
      "The Elkan KMeans with 2 categories had accuracy: 0.5280054644808743\n",
      "The Elkan KMeans with 2 categories had weighted average precision: 0.6256130931833802\n",
      "The Elkan KMeans with 2 categories had weighted average recall: 0.5280054644808743\n"
     ]
    }
   ],
   "source": [
    "# Accuracy, precision, and recall\n",
    "print(\"The Elkan KMeans with 2 categories had accuracy:\" , accuracy_score(y_true = newlabs, y_pred = yhat8))\n",
    "print(\"The Elkan KMeans with 2 categories had weighted average precision:\", precision_score(y_true = newlabs, y_pred = yhat8, average = \"weighted\"))\n",
    "print(\"The Elkan KMeans with 2 categories had weighted average recall:\", recall_score(y_true = newlabs, y_pred = yhat8, average = \"weighted\"))"
   ]
  },
  {
   "attachments": {},
   "cell_type": "markdown",
   "id": "50c979de-3da5-406c-a905-71923d5a235d",
   "metadata": {},
   "source": [
    "#### Unsupervised Learning Problem:\n",
    "\n",
    "The confusion matrices generated by the Elkan and Lloyd algorithms are almost identical, indicating that KMeans has identified genuine categories present in the chest X-Rays. These categories could be related to patient size, shape, bone structure, race, etc. To determine what these clusters represent, we would need to apply these labels to a variety of different labeled training data. \n",
    "This is why Unsupervised Learning is intended to discover hidden patterns that the data analyst did not anticipate! Nonetheless, the models do exhibit some predictive capability for pneumonia, indicating that whatever clusters are being discovered are at least correlated with pneumonia"
   ]
  },
  {
   "attachments": {},
   "cell_type": "markdown",
   "id": "2e92abdd",
   "metadata": {},
   "source": [
    "#### Compare with supervised model"
   ]
  },
  {
   "attachments": {},
   "cell_type": "markdown",
   "id": "e7397722",
   "metadata": {},
   "source": [
    "Three categories"
   ]
  },
  {
   "cell_type": "code",
   "execution_count": 51,
   "id": "c14073cd-cdff-4b05-b1dd-7ef9d41a9223",
   "metadata": {},
   "outputs": [],
   "source": [
    "n_train = 5232\n",
    "forest = RandomForestClassifier(n_estimators = 10000, random_state = 42, n_jobs = 14).fit(reducedData[:5232, :], labs[:5232])\n",
    "yhat9 = forest.predict(reducedData[5232: , :])"
   ]
  },
  {
   "cell_type": "code",
   "execution_count": 52,
   "id": "a6a42a36-8249-438d-9c17-cfa69f1d3ae0",
   "metadata": {},
   "outputs": [
    {
     "name": "stdout",
     "output_type": "stream",
     "text": [
      "[[234   8   0]\n",
      " [119 115   0]\n",
      " [130  12   6]]\n"
     ]
    }
   ],
   "source": [
    "print(confusion_matrix(y_true = labs[5232: ], y_pred = yhat9))"
   ]
  },
  {
   "cell_type": "code",
   "execution_count": 53,
   "id": "a5ce4fcb-1e35-4d44-bb1c-ab8f5d829b15",
   "metadata": {},
   "outputs": [
    {
     "name": "stdout",
     "output_type": "stream",
     "text": [
      "The Random Forest with 3 categories had accuracy: 0.5689102564102564\n",
      "The Random Forest with 3 categories had weighted average precision: 0.7445121303816956\n",
      "The Random Forest with 3 categories had weighted average recall: 0.5689102564102564\n"
     ]
    }
   ],
   "source": [
    "# Accuracy, precision, and recall\n",
    "print(\"The Random Forest with 3 categories had accuracy:\" , accuracy_score(y_true = labs[5232: ], y_pred = yhat9))\n",
    "print(\"The Random Forest with 3 categories had weighted average precision:\", precision_score(y_true = labs[5232: ], y_pred = yhat9, average = \"weighted\"))\n",
    "print(\"The Random Forest with 3 categories had weighted average recall:\", recall_score(y_true = labs[5232: ], y_pred = yhat9, average = \"weighted\"))"
   ]
  },
  {
   "attachments": {},
   "cell_type": "markdown",
   "id": "5ca8ffe9",
   "metadata": {},
   "source": [
    "Two categories"
   ]
  },
  {
   "cell_type": "code",
   "execution_count": 55,
   "id": "bf64ab20-c32b-4bed-b5b2-235de7a98888",
   "metadata": {},
   "outputs": [],
   "source": [
    "forest = RandomForestClassifier(n_estimators = 10000, random_state = 42, n_jobs = 14).fit(reducedData[:5232, :], labs2[:5232])\n",
    "yhat10 = forest.predict(reducedData[5232: , :])"
   ]
  },
  {
   "cell_type": "code",
   "execution_count": 56,
   "id": "cfeacacc-ebe5-4091-88bc-befab1cabc2b",
   "metadata": {},
   "outputs": [
    {
     "name": "stdout",
     "output_type": "stream",
     "text": [
      "[[384   6]\n",
      " [197  37]]\n"
     ]
    }
   ],
   "source": [
    "print(confusion_matrix(y_true = labs2[5232: ], y_pred = yhat10))"
   ]
  },
  {
   "cell_type": "code",
   "execution_count": 57,
   "id": "480b1092-b189-4df7-a34a-0cba1e6cdb90",
   "metadata": {},
   "outputs": [
    {
     "name": "stdout",
     "output_type": "stream",
     "text": [
      "The Random Forest with 2 categories had accuracy: 0.6746794871794872\n",
      "The Random Forest with 2 categories had weighted average precision: 0.7357553136132571\n",
      "The Random Forest with 2 categories had weighted average recall: 0.6746794871794872\n"
     ]
    }
   ],
   "source": [
    "# Accuracy, precision, and recall\n",
    "print(\"The Random Forest with 2 categories had accuracy:\" , accuracy_score(y_true = labs2[5232: ], y_pred = yhat10))\n",
    "print(\"The Random Forest with 2 categories had weighted average precision:\", precision_score(y_true = labs2[5232: ], y_pred = yhat10, average = \"weighted\"))\n",
    "print(\"The Random Forest with 2 categories had weighted average recall:\", recall_score(y_true = labs2[5232: ], y_pred = yhat10, average = \"weighted\"))"
   ]
  },
  {
   "cell_type": "code",
   "execution_count": 58,
   "id": "f9402d84-8ac2-4b3e-8fac-e3b61cb29d6f",
   "metadata": {},
   "outputs": [
    {
     "name": "stdout",
     "output_type": "stream",
     "text": [
      "[[1.         0.67743219 0.79319435 0.79319435]\n",
      " [0.67743219 1.         0.587775   0.587775  ]\n",
      " [0.79319435 0.587775   1.         1.        ]\n",
      " [0.79319435 0.587775   1.         1.        ]]\n"
     ]
    }
   ],
   "source": [
    "# Correlation matrix to compare the similarity in predictions for three category models\n",
    "yhatAll3Categories = np.vstack((\n",
    "    yhat1.reshape(1, yhat1.shape[0]),\n",
    "    yhat3.reshape(1, yhat3.shape[0]),\n",
    "    yhat5.reshape(1, yhat5.shape[0]),\n",
    "    yhat7.reshape(1, yhat7.shape[0]))\n",
    ")\n",
    "\n",
    "cosineMatrix = cosine_similarity(yhatAll3Categories)\n",
    "print(.5 + .5 * cosineMatrix)"
   ]
  },
  {
   "attachments": {},
   "cell_type": "markdown",
   "id": "e8b59b64-465f-4534-9bd0-89f3cee64fbf",
   "metadata": {},
   "source": [
    "If there was no correlation between any two clusters, a similarity metric of 0.333 would be expected since there are three categories. However, the correlations observed were much higher, indicating that all models had something in common. Therefore, we may consider combining the models and using the consensus opinion. Since models 5 and 7 (the K-Means models) had a perfect correlation, we need to exclude one for the combination to work. Now let's test this and see how it impacts accuracy:"
   ]
  },
  {
   "cell_type": "code",
   "execution_count": 65,
   "id": "cf7f9663-9b83-4b7d-92b3-810febb9d98a",
   "metadata": {},
   "outputs": [],
   "source": [
    "yhatMost3Categories = np.vstack((\n",
    "    yhat1.reshape(1, yhat1.shape[0]),\n",
    "    yhat3.reshape(1, yhat3.shape[0]),\n",
    "    yhat5.reshape(1, yhat5.shape[0])\n",
    "))\n",
    "\n",
    "def majorityRule3(predictionMatrix):\n",
    "    baggedPred = np.zeros(predictionMatrix.shape[1]).astype(int)\n",
    "    for j in range(predictionMatrix.shape[1]):\n",
    "        counts = {\n",
    "            0: 0,\n",
    "            1: 0,\n",
    "            2: 0\n",
    "        }\n",
    "        for i in range(predictionMatrix.shape[0]):\n",
    "            this_prediction = predictionMatrix[i, j]\n",
    "            counts.update({this_prediction : counts[this_prediction] + 1})\n",
    "        if counts[0] > counts[1] and counts[0] > counts[2]:\n",
    "            baggedPred[j] = 0\n",
    "        elif counts[1] > counts[0] and counts[1] > counts[2]:\n",
    "            baggedPred[j] = 1\n",
    "        elif counts[2] > counts[0] and counts[2] > counts[1]:\n",
    "            baggedPred[j] = 2\n",
    "        else:\n",
    "            tieBreaker = random.random()\n",
    "            if counts[0] == counts[1] and counts[0] > counts[2]:\n",
    "                assert counts[1] > counts[2]\n",
    "                if tieBreaker < .5:\n",
    "                    baggedPred[j] = 0\n",
    "                else:\n",
    "                    baggedPred[j] = 1\n",
    "            elif counts[0] == counts[2] and counts[0] > counts[1]:\n",
    "                assert counts[2] > counts[1]\n",
    "                if tieBreaker < .5:\n",
    "                    baggedPred[j] = 0\n",
    "                else:\n",
    "                    baggedPred[j] = 2\n",
    "            elif counts[1] == counts[2] and counts[1] > counts[0]:\n",
    "                assert counts[2] > counts[0]\n",
    "                if tieBreaker < .5:\n",
    "                    baggedPred[j] = 1\n",
    "                else:\n",
    "                    baggedPred[j] = 2\n",
    "            else:\n",
    "                assert counts[1] == counts[2] and counts[2] == counts[0]\n",
    "                if tieBreaker < 1/3:\n",
    "                    baggedPred[j] = 0\n",
    "                elif tieBreaker < 2/3:\n",
    "                    baggedPred[j] = 1\n",
    "                else:\n",
    "                    baggedPred[j] = 2\n",
    "    return (baggedPred)"
   ]
  },
  {
   "cell_type": "code",
   "execution_count": 66,
   "id": "5a9a369f-5c81-4083-a03c-07db7bee9460",
   "metadata": {},
   "outputs": [
    {
     "name": "stdout",
     "output_type": "stream",
     "text": [
      "[[2183  244  353]\n",
      " [1198  346   39]\n",
      " [1263  120  110]]\n",
      "The Bagged Model with 3 categories had accuracy: 0.45064890710382516\n",
      "The Bagged Model with 3 categories had weighted average precision: 0.41075422750001256\n",
      "The Bagged Model with 3 categories had weighted average recall: 0.45064890710382516\n"
     ]
    }
   ],
   "source": [
    "# Get bagged predictions\n",
    "yhatBagged3 = majorityRule3(yhatMost3Categories)\n",
    "\n",
    "# Convert labels \n",
    "categoryNames = reconstructLabels(yhatBagged3, labs)\n",
    "newlabs = list()\n",
    "labelDictionary = {\n",
    "    categoryNames[0][0] : 0,\n",
    "    categoryNames[0][1] : 1,\n",
    "    categoryNames[0][2] : 2\n",
    "}\n",
    "for label in labs:\n",
    "    this_newlab = labelDictionary[label]\n",
    "    newlabs.append(this_newlab)\n",
    "newlabs = np.asarray(newlabs)\n",
    "\n",
    "print(confusion_matrix(y_true = newlabs, y_pred = yhatBagged3))\n",
    "\n",
    "# Accuracy, precision, and recall\n",
    "print(\"The Bagged Model with 3 categories had accuracy:\" , accuracy_score(y_true = newlabs, y_pred = yhatBagged3))\n",
    "print(\"The Bagged Model with 3 categories had weighted average precision:\", precision_score(y_true = newlabs, y_pred = yhatBagged3, average = \"weighted\"))\n",
    "print(\"The Bagged Model with 3 categories had weighted average recall:\", recall_score(y_true = newlabs, y_pred = yhatBagged3, average = \"weighted\"))"
   ]
  },
  {
   "attachments": {},
   "cell_type": "markdown",
   "id": "95adcc23-c496-45c7-a7c0-b49cad77e256",
   "metadata": {},
   "source": [
    "The bagged model showed a slight improvement in metrics compared to the L2-Loss NMF and K-Means models, but still performed worse than the KL-Loss NMF. It appears that the L2-Loss NMF and K-Means models identified some clusters in the data that were consistently different from pneumonia status, whereas the KL-Loss NMF recognized more pneumonia. Consequently, the bagged model interfered destructively with itself, leading to a slight decrease in metrics.\n",
    "\n",
    "It is important to note that the supervised model (which is the benchmark for predicting labels) also performed poorly, despite having a lengthy training period. Both the L2-Loss NMF and K2-Loss NMF outperformed the Random Forest in accuracy and recall for 2 category classification, but their precision was significantly worse. The poor performance of all models indicates two key points: (1) Detecting pneumonia in X-Rays is inherently challenging, which is why it necessitates medical expertise. (2) 5000 images are insufficient for teaching a machine how to read a chest X-Ray for pneumonia detection. Therefore, I would like to repeat the experiment with an additional order of magnitude of data.\n",
    "\n",
    "#### Summary results for the three categories models:"
   ]
  },
  {
   "cell_type": "markdown",
   "id": "ee7f4dab-bca8-43bb-ada0-ed64c577e25b",
   "metadata": {},
   "source": [
    "| 3 Categories  | Accuracy | Precision | Recall |\n",
    "|---------------|----------|-----------|--------|\n",
    "| L2-Loss NMF   | 0.4151   | 0.4667    | 0.4151 |\n",
    "| KL-Loss NMF   | 0.4600   | 0.4847    | 0.4600 |\n",
    "| Lloyd KMeans  | 0.4136   | 0.4136    | 0.4117 |\n",
    "| Elkan KMeans  | 0.4117   | 0.4136    | 0.4117 |\n",
    "| Bagged        | 0.4558   | 0.4170    | 0.4558 |\n",
    "| Random Forest | 0.5689   | 0.7445    | 0.5689 |"
   ]
  },
  {
   "attachments": {},
   "cell_type": "markdown",
   "id": "5028ad0e-ecff-452c-a342-5f92f9bd949a",
   "metadata": {},
   "source": [
    "#### Summary results for the two categories models:\n",
    "\n",
    "| 2 Categories  | Accuracy | Precision | Recall |\n",
    "|---------------|----------|-----------|--------|\n",
    "| L2-Loss NMF   | 0.7170   | 0.6214    | 0.7170 |\n",
    "| KL-Loss NMF   | 0.7222   | 0.5947    | 0.7222 |\n",
    "| Lloyd KMeans  | 0.5280   | 0.6256    | 0.5280 |\n",
    "| Elkan KMeans  | 0.5280   | 0.6256    | 0.5280 |\n",
    "| Random Forest | 0.6746   | 0.7358    | 0.6747 |"
   ]
  },
  {
   "attachments": {},
   "cell_type": "markdown",
   "id": "3741a507-0c9f-45b5-a628-6758cfe414fe",
   "metadata": {},
   "source": [
    "#### Conclusion\n",
    "One way to potentially improve the unsupervised models is to extract the lungs from the rest of the body in the X-rays before inputting the data into the models. However, implementing this would require additional supervised models that can differentiate between the lungs and other body parts. This could be a promising topic for a master's thesis project.\n",
    "\n",
    "After experimented with eight unsupervised learning models and developed custom functions to reconstruct labels and understand the clusters the algorithms generated. Although the models consistently produced similar clusterings, it is unclear what these clusters represent if not pneumonia. It is possible that the clusters could relate to variables such as sex, bone damage, or age groups, among others. This project highlights the fact that unsupervised models are designed to uncover trends that may not be apparent to data analysts, and it is up to the analyst to interpret and understand the resulting clusters."
   ]
  }
 ],
 "metadata": {
  "kernelspec": {
   "display_name": "Python 3 (ipykernel)",
   "language": "python",
   "name": "python3"
  },
  "language_info": {
   "codemirror_mode": {
    "name": "ipython",
    "version": 3
   },
   "file_extension": ".py",
   "mimetype": "text/x-python",
   "name": "python",
   "nbconvert_exporter": "python",
   "pygments_lexer": "ipython3",
   "version": "3.9.16"
  }
 },
 "nbformat": 4,
 "nbformat_minor": 5
}
